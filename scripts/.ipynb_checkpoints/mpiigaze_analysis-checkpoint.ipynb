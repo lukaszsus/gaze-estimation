{
 "cells": [
  {
   "cell_type": "code",
   "execution_count": 9,
   "metadata": {},
   "outputs": [],
   "source": [
    "import os\n",
    "import sys, inspect\n",
    "import numpy as np\n",
    "import math\n",
    "import scipy.io\n",
    "import scipy.stats\n",
    "from PIL import Image\n",
    "currentdir = os.path.dirname(os.path.abspath(inspect.getfile(inspect.currentframe())))\n",
    "parentdir = os.path.dirname(currentdir)\n",
    "sys.path.insert(0,parentdir) \n",
    "from settings import MPIIGAZE_PATH\n",
    "from data_loader.utils import load_image_by_cv2, mpiigaze_path_wrapper"
   ]
  },
  {
   "cell_type": "code",
   "execution_count": 5,
   "metadata": {},
   "outputs": [],
   "source": [
    "def get_mpiigaze_path(filename):\n",
    "    data_path = os.path.join(MPIIGAZE_PATH, filename)\n",
    "    return data_path"
   ]
  },
  {
   "cell_type": "markdown",
   "metadata": {},
   "source": [
    "## Try to open and show"
   ]
  },
  {
   "cell_type": "code",
   "execution_count": 3,
   "metadata": {},
   "outputs": [],
   "source": [
    "path = get_mpiigaze_path(\"Data/Original/p01/day02/0020.jpg\")"
   ]
  },
  {
   "cell_type": "code",
   "execution_count": 4,
   "metadata": {},
   "outputs": [],
   "source": [
    "im = load_image_by_cv2(path)"
   ]
  },
  {
   "cell_type": "code",
   "execution_count": 5,
   "metadata": {},
   "outputs": [
    {
     "name": "stdout",
     "output_type": "stream",
     "text": [
      "(720, 1280, 3)\n"
     ]
    }
   ],
   "source": [
    "print(im.shape)"
   ]
  },
  {
   "cell_type": "code",
   "execution_count": 6,
   "metadata": {},
   "outputs": [],
   "source": [
    "img = Image.fromarray(im, 'RGB')"
   ]
  },
  {
   "cell_type": "code",
   "execution_count": 7,
   "metadata": {},
   "outputs": [],
   "source": [
    "img.show()"
   ]
  },
  {
   "cell_type": "markdown",
   "metadata": {},
   "source": [
    "## Get normalized"
   ]
  },
  {
   "cell_type": "code",
   "execution_count": 12,
   "metadata": {},
   "outputs": [],
   "source": [
    "path = \"Data/Normalized/p01/day02.mat\""
   ]
  },
  {
   "cell_type": "code",
   "execution_count": 13,
   "metadata": {},
   "outputs": [],
   "source": [
    "path = os.path.join(MPIIGAZE_PATH, path)\n",
    "matdata = scipy.io.loadmat(\n",
    "    path, struct_as_record=False, squeeze_me=True)\n",
    "data = matdata['data']"
   ]
  },
  {
   "cell_type": "code",
   "execution_count": 14,
   "metadata": {},
   "outputs": [],
   "source": [
    "img = Image.fromarray(data.right.image[0], 'L')"
   ]
  },
  {
   "cell_type": "code",
   "execution_count": 15,
   "metadata": {},
   "outputs": [],
   "source": [
    "img.show()"
   ]
  },
  {
   "cell_type": "markdown",
   "metadata": {},
   "source": [
    "## Get data about gaze and head pose"
   ]
  },
  {
   "cell_type": "code",
   "execution_count": 22,
   "metadata": {},
   "outputs": [
    {
     "data": {
      "text/plain": [
       "array([-0.12259858,  0.09134563, -0.98824368])"
      ]
     },
     "execution_count": 22,
     "metadata": {},
     "output_type": "execute_result"
    }
   ],
   "source": [
    "data.right.gaze[0]"
   ]
  },
  {
   "cell_type": "code",
   "execution_count": 23,
   "metadata": {},
   "outputs": [
    {
     "data": {
      "text/plain": [
       "array([-0.11881702,  0.08861178, -0.98895423])"
      ]
     },
     "execution_count": 23,
     "metadata": {},
     "output_type": "execute_result"
    }
   ],
   "source": [
    "data.left.gaze[0]"
   ]
  },
  {
   "cell_type": "markdown",
   "metadata": {},
   "source": [
    "## 3G gaze target vs pixel coordinates"
   ]
  },
  {
   "cell_type": "code",
   "execution_count": 6,
   "metadata": {},
   "outputs": [],
   "source": [
    "annotation = np.loadtxt(mpiigaze_path_wrapper(\"Data/Original/p00/day01/annotation.txt\"))"
   ]
  },
  {
   "cell_type": "code",
   "execution_count": 15,
   "metadata": {},
   "outputs": [],
   "source": [
    "theta_list = list()\n",
    "phi_list = list()\n",
    "x_list = list()\n",
    "y_list = list()\n",
    "\n",
    "for ann in annotation:\n",
    "    gaze_target = ann[26:29]\n",
    "    gaze_target = np.reshape(gaze_target, (-1, 1))\n",
    "    tmp = gaze_target / np.linalg.norm(gaze_target)\n",
    "    g_theta = math.degrees(np.arcsin((-1) * tmp[1].squeeze()))\n",
    "    g_phi = math.degrees(np.arctan2((-1) * tmp[0].squeeze(), (-1) * tmp[2].squeeze()))\n",
    "    \n",
    "    coords = ann[24:26]\n",
    "    \n",
    "#     print(f\"gaze: ({g_theta}, {g_phi})\\t coords: {coords}\")\n",
    "    theta_list.append(g_theta)\n",
    "    phi_list.append(g_phi)\n",
    "    x_list.append(coords[0])\n",
    "    y_list.append(coords[1])\n",
    "#     print(gaze_target.T)"
   ]
  },
  {
   "cell_type": "code",
   "execution_count": null,
   "metadata": {},
   "outputs": [],
   "source": [
    "pairs = [(theta_list, x_list),\n",
    "        (theta_list, y_list),\n",
    "        (phi_list, x_list),\n",
    "        (phi_list, y_list)]\n",
    "\n",
    "for pair in pairs:\n",
    "    p = scipy.stats.pearsonr(pair[0], pair[1])\n",
    "    s = scipy.stats.spearmanr(pair[0], pair[1])\n",
    "    print(f\"{pair[0].__name__} {pair[1].__name__}\")\n",
    "    print(f\"{p}\\t{s}\")\n",
    "    print()"
   ]
  }
 ],
 "metadata": {
  "kernelspec": {
   "display_name": "Python 3",
   "language": "python",
   "name": "python3"
  },
  "language_info": {
   "codemirror_mode": {
    "name": "ipython",
    "version": 3
   },
   "file_extension": ".py",
   "mimetype": "text/x-python",
   "name": "python",
   "nbconvert_exporter": "python",
   "pygments_lexer": "ipython3",
   "version": "3.6.9"
  }
 },
 "nbformat": 4,
 "nbformat_minor": 2
}

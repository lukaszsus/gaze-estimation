{
 "cells": [
  {
   "cell_type": "code",
   "execution_count": 1,
   "metadata": {},
   "outputs": [],
   "source": [
    "import os\n",
    "import sys, inspect\n",
    "import numpy as np\n",
    "import math\n",
    "import scipy.io\n",
    "import scipy.stats\n",
    "import pandas as pd\n",
    "from PIL import Image\n",
    "import matplotlib.pyplot as plt\n",
    "import seaborn as sns\n",
    "currentdir = os.path.dirname(os.path.abspath(inspect.getfile(inspect.currentframe())))\n",
    "parentdir = os.path.dirname(currentdir)\n",
    "sys.path.insert(0,parentdir) \n",
    "from settings import MPIIGAZE_PATH\n",
    "from data_processing.utils import mpii_face_gaze_path_wrapper, load_image_by_cv2, mpiigaze_path_wrapper\n",
    "from data_processing.mpiigaze_analysis import get_mpiigaze_data\n",
    "from settings import RESULTS_PATH, FOR_THESIS_DIR, OWN_DATASET_PATH"
   ]
  },
  {
   "cell_type": "code",
   "execution_count": 3,
   "metadata": {},
   "outputs": [],
   "source": [
    "def get_own_dataset_path(filename):\n",
    "    data_path = os.path.join(OWN_DATASET_PATH, filename)\n",
    "    return data_path"
   ]
  },
  {
   "cell_type": "code",
   "execution_count": 4,
   "metadata": {},
   "outputs": [],
   "source": [
    "def load_metadata():\n",
    "    metadata = np.loadtxt(get_own_dataset_path(\"metadata.txt\"), dtype=str)\n",
    "    return metadata"
   ]
  },
  {
   "cell_type": "code",
   "execution_count": 5,
   "metadata": {},
   "outputs": [],
   "source": [
    "metadata = load_metadata()"
   ]
  },
  {
   "cell_type": "markdown",
   "metadata": {},
   "source": [
    "# Count number of valid records"
   ]
  },
  {
   "cell_type": "code",
   "execution_count": 6,
   "metadata": {},
   "outputs": [
    {
     "data": {
      "text/plain": [
       "array([['data/images/2020-05-08-t-18-41-55.jpg', '297', '718'],\n",
       "       ['data/images/2020-05-08-t-18-41-57.jpg', '1073', '506'],\n",
       "       ['data/images/2020-05-08-t-18-41-58.jpg', '577', '619'],\n",
       "       ...,\n",
       "       ['data/images/2020-05-13-t-16-32-22.jpg', '393', '166'],\n",
       "       ['data/images/2020-05-13-t-16-32-22.jpg', '392', '167'],\n",
       "       ['data/images/2020-05-13-t-16-32-32.jpg', '495', '182']],\n",
       "      dtype='<U37')"
      ]
     },
     "execution_count": 6,
     "metadata": {},
     "output_type": "execute_result"
    }
   ],
   "source": [
    "metadata"
   ]
  },
  {
   "cell_type": "code",
   "execution_count": null,
   "metadata": {},
   "outputs": [],
   "source": []
  }
 ],
 "metadata": {
  "kernelspec": {
   "display_name": "Python 3",
   "language": "python",
   "name": "python3"
  },
  "language_info": {
   "codemirror_mode": {
    "name": "ipython",
    "version": 3
   },
   "file_extension": ".py",
   "mimetype": "text/x-python",
   "name": "python",
   "nbconvert_exporter": "python",
   "pygments_lexer": "ipython3",
   "version": "3.6.9"
  }
 },
 "nbformat": 4,
 "nbformat_minor": 4
}

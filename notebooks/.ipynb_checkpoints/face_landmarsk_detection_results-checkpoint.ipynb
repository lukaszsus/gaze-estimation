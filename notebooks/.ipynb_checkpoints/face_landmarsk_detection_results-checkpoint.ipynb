{
 "cells": [
  {
   "cell_type": "code",
   "execution_count": 5,
   "metadata": {},
   "outputs": [],
   "source": [
    "import os, sys, inspect\n",
    "currentdir = os.path.dirname(os.path.abspath(inspect.getfile(inspect.currentframe())))\n",
    "parentdir = os.path.dirname(currentdir)\n",
    "sys.path.insert(0, parentdir) \n",
    "from settings import RESULTS_PATH\n",
    "\n",
    "import pandas as pd"
   ]
  },
  {
   "cell_type": "code",
   "execution_count": 4,
   "metadata": {},
   "outputs": [],
   "source": [
    "file_path = os.path.join(RESULTS_PATH, \"face_landmarks\", \"face_landmarks_detection.csv\")"
   ]
  },
  {
   "cell_type": "code",
   "execution_count": 8,
   "metadata": {},
   "outputs": [
    {
     "data": {
      "text/html": [
       "<div>\n",
       "<style scoped>\n",
       "    .dataframe tbody tr th:only-of-type {\n",
       "        vertical-align: middle;\n",
       "    }\n",
       "\n",
       "    .dataframe tbody tr th {\n",
       "        vertical-align: top;\n",
       "    }\n",
       "\n",
       "    .dataframe thead th {\n",
       "        text-align: right;\n",
       "    }\n",
       "</style>\n",
       "<table border=\"1\" class=\"dataframe\">\n",
       "  <thead>\n",
       "    <tr style=\"text-align: right;\">\n",
       "      <th></th>\n",
       "      <th>face_detector</th>\n",
       "      <th>landmarks_detector</th>\n",
       "      <th>mae_macro</th>\n",
       "      <th>mae_micro</th>\n",
       "      <th>face_precision</th>\n",
       "      <th>face_recall</th>\n",
       "      <th>face_f1_score</th>\n",
       "      <th>time</th>\n",
       "    </tr>\n",
       "  </thead>\n",
       "  <tbody>\n",
       "    <tr>\n",
       "      <th>0</th>\n",
       "      <td>Haarcascade</td>\n",
       "      <td>LBF</td>\n",
       "      <td>7.105715</td>\n",
       "      <td>7.089871</td>\n",
       "      <td>0.985398</td>\n",
       "      <td>0.974723</td>\n",
       "      <td>0.980031</td>\n",
       "      <td>0.041528</td>\n",
       "    </tr>\n",
       "    <tr>\n",
       "      <th>1</th>\n",
       "      <td>Haarcascade</td>\n",
       "      <td>Kazemi</td>\n",
       "      <td>6.674220</td>\n",
       "      <td>6.625077</td>\n",
       "      <td>0.985398</td>\n",
       "      <td>0.974723</td>\n",
       "      <td>0.980031</td>\n",
       "      <td>0.041696</td>\n",
       "    </tr>\n",
       "    <tr>\n",
       "      <th>2</th>\n",
       "      <td>HOG</td>\n",
       "      <td>LBF</td>\n",
       "      <td>11.316701</td>\n",
       "      <td>9.923945</td>\n",
       "      <td>0.999727</td>\n",
       "      <td>0.943771</td>\n",
       "      <td>0.970943</td>\n",
       "      <td>0.072507</td>\n",
       "    </tr>\n",
       "    <tr>\n",
       "      <th>3</th>\n",
       "      <td>HOG</td>\n",
       "      <td>Kazemi</td>\n",
       "      <td>5.517224</td>\n",
       "      <td>4.985319</td>\n",
       "      <td>0.999727</td>\n",
       "      <td>0.943771</td>\n",
       "      <td>0.970943</td>\n",
       "      <td>0.072661</td>\n",
       "    </tr>\n",
       "  </tbody>\n",
       "</table>\n",
       "</div>"
      ],
      "text/plain": [
       "  face_detector landmarks_detector  mae_macro  mae_micro  face_precision  \\\n",
       "0   Haarcascade                LBF   7.105715   7.089871        0.985398   \n",
       "1   Haarcascade             Kazemi   6.674220   6.625077        0.985398   \n",
       "2           HOG                LBF  11.316701   9.923945        0.999727   \n",
       "3           HOG             Kazemi   5.517224   4.985319        0.999727   \n",
       "\n",
       "   face_recall  face_f1_score      time  \n",
       "0     0.974723       0.980031  0.041528  \n",
       "1     0.974723       0.980031  0.041696  \n",
       "2     0.943771       0.970943  0.072507  \n",
       "3     0.943771       0.970943  0.072661  "
      ]
     },
     "execution_count": 8,
     "metadata": {},
     "output_type": "execute_result"
    }
   ],
   "source": [
    "df_results = pd.read_csv(file_path)\n",
    "columns_to_show = [\"face_detector\", \"landmarks_detector\", \"mae_macro\", \"mae_micro\", \"face_precision\", \"face_recall\", \"face_f1_score\", \"time\"]\n",
    "df_results[columns_to_show]"
   ]
  },
  {
   "cell_type": "code",
   "execution_count": null,
   "metadata": {},
   "outputs": [],
   "source": []
  }
 ],
 "metadata": {
  "kernelspec": {
   "display_name": "Python 3",
   "language": "python",
   "name": "python3"
  },
  "language_info": {
   "codemirror_mode": {
    "name": "ipython",
    "version": 3
   },
   "file_extension": ".py",
   "mimetype": "text/x-python",
   "name": "python",
   "nbconvert_exporter": "python",
   "pygments_lexer": "ipython3",
   "version": "3.6.9"
  }
 },
 "nbformat": 4,
 "nbformat_minor": 4
}
